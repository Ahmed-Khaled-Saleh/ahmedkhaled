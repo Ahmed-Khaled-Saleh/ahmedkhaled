{
 "cells": [
  {
   "cell_type": "markdown",
   "id": "fa5b6e0f",
   "metadata": {},
   "source": [
    "# Eloquent JS,  Chapter 1."
   ]
  },
  {
   "cell_type": "markdown",
   "id": "6203de72",
   "metadata": {},
   "source": [
    "### Introduction.\n",
    "Computers memory can contain just two things, Data and instructions (some Lisp folks treat them similarily, but thit is another story). Data is stored as a sequence of zeros and ones (0s, 1s). The 0s represent the abscence of current or the low voltage, while the 1s represent the reverse. Computers own langauge is those 0s and 1s. Any computer cannot understand anything else.This language of 0s and 1s has its own branch of mathematics, called *boolean algebra* that can describe it very acccurately. But what makes programming able to produces such beautiful value (spreadsheets, Web browsers, ...etc), is that it  uses a tool called *abstraction* that enables programmers to work with higher level languages called **Progamming languages**. It's a universally accepted truth that working with higher level programming langauges is much less complex than working with own machine language(Sorry for some Embedded systems folks and retro enthusiasts). \n",
    "\n"
   ]
  },
  {
   "cell_type": "markdown",
   "id": "696da5ba",
   "metadata": {},
   "source": [
    "### Abstraction : The tool of the matter.\n",
    "We said that the higher level programming languages are enabled using a technique (or a methodology) called *Abstraction*. Abstractoin tries to decompose the problem into different layers and hides the unneccessary details between each subsequent layers. The following figure describes what abstraction is all about in terms of programming higher level langauges .\n",
    "\n",
    "<img src= \"Presentation1.png\">\n",
    "\n",
    "The technique shown above makes it easy to think about problems in terms of layers. Actually, The same approach could be applied to other disciplines as well. The general framework upon which Abstraction exist is the idea that *everything becomes understandable and easy to grasp the moment you break it to small pieces and try to understand them separately, then , recurisevley, combine the small pieces toghter to uncover the whole picture* . \n",
    "The high level programming languages layer *uses* the interface provided by the implementation part.\n",
    "\n",
    "We can see from the figure that ***Abstraction*** hides a lot of details which otherwise could become a pain to work with. This makes the complexity a lot easier to handle. At the end of the day, programming is a very complex craft when it comes to designing and implementing large scale systems.But abstraction has a very bad side effect. Hiding a lot of details may result in a confusing understanding of the whole problem. This is a problem only when you are trying to do one of two things: \n",
    "- if the problem is so hard that you cannot really decompose it effectively .\n",
    "- if You are trying to innovate (at this level, you are in a must to break the abstraction level).\n",
    "\n",
    "To conclude on abstraction, The level at which you abstract is a skill, a rare one. There would be no better way to end talking about abstraction than the wizard words [Gerald Gay Sussmann](https://en.wikipedia.org/wiki/Gerald_Jay_Sussman): \n",
    "> **The key to understand complicated things is knowing what not to look at .**\n",
    "\n"
   ]
  },
  {
   "cell_type": "markdown",
   "id": "e157a791",
   "metadata": {},
   "source": [
    "### JavaScript, a little bit of history.\n",
    "One such higher level programming langauge is JavaScript, JS for short. It Was Created as a way to add programability to the [Netscape Navigator Web browser](https://en.wikipedia.org/wiki/Netscape_Navigator). Js together with HTML(Hyper Text Markup Language) and CSS(Cascading Style sheets) are the tools reponsible for such huge boom of the web. This is the timeline for the releases of the Js versions : \n",
    "- Between 2000 and 2010, Js version three was the dominant version in browsers .\n",
    "- The fourth version abandoned in 2008 (actually, you can say that this was never released).\n",
    "- 2009 : The fifth version **EcmaScript 5** (theversion where JIT compilers were introduced to JS).\n",
    "- 2015 : The sixth edition **EcmaScript 6** (2015) A major release .\n",
    "\n",
    "Actually, Js version six, which is known as *EcmaScript 6* is the current stable version with minor updates regularly released from the Ecma standaraization committee."
   ]
  },
  {
   "cell_type": "markdown",
   "id": "878647ea",
   "metadata": {},
   "source": [
    "### JavaScript , values and Data Types\n",
    "Programming deals with Data as we said. But those data aren't created from thin air. They are the reflection of a real world information the describes a part of a problem we want to solve. consider the following statement.\n",
    "> my name is yasser.\n",
    "\n",
    "This could be interpreted inside the computer as : \n",
    ">  a data item that holds a text value to store the string \"yasser\" .\n",
    "\n",
    "This process is not always straighforward or one-to-one correspondence. Some real world information included in problem definitions might not have a straight forward representaion in the langauge we are using (but this is a very broad problem and far from our concern here).\n",
    "Data in javascript can be categorized in a number of ways. one such way is to say that data is either **Atomic** or **combound / non atomic** .The atomic values in Js are {Numbers, Strings, Boolean, undefined, null}.\n",
    "- **numbers** -> to represent different types of numbers including whole number, decimals and more.\n",
    "- **Strings** -> to represnt text values .\n",
    "- **Boolean** -> to represnts only two values {true, false}.\n",
    "- **undefined** -> to represnt data that has no value associated with it.\n",
    "- **null** -> to state verbally that a certain data item has the value of nothing (yes that's what null means).\n"
   ]
  },
  {
   "cell_type": "markdown",
   "id": "f334fb78",
   "metadata": {},
   "source": [
    "We can work with numbers pretty much like a calclator . here are some examples."
   ]
  },
  {
   "cell_type": "code",
   "execution_count": 11,
   "id": "89fe2212",
   "metadata": {},
   "outputs": [
    {
     "name": "stdout",
     "output_type": "stream",
     "text": [
      "250\n",
      "-24\n",
      "0\n"
     ]
    }
   ],
   "source": [
    "console.log(5 * 50);\n",
    "console.log(1 - 25);\n",
    "console.log(8 & 2)//the module operator also called remainder,ehich computes the remainder after dividing the first number on the second."
   ]
  },
  {
   "cell_type": "markdown",
   "id": "0ea9c9f4",
   "metadata": {},
   "source": [
    "Pretty much every programming language has certain set of operators that are built in within its implementation.\n",
    "this table shows them :\n",
    "\n",
    "|family of Operators| Description| Example|\n",
    "|---------|-----------|------|\n",
    "|Mathematical operators| Perform basic addition, subtraction , ...etc.| 50-20 |\n",
    "|Comparison operators|comparing data | 5 < 25 |\n",
    "|Lgical Operators | Perform logic operations (and, or, not)| true && false|"
   ]
  },
  {
   "cell_type": "markdown",
   "id": "d32b33ca",
   "metadata": {},
   "source": [
    "There are some other operators that don't fit the categories above. For example, the **typeof** operator is a unary operator,(which is a fancy way to state that it takes one argument), whcih returns the type of the value passed to it as argument."
   ]
  },
  {
   "cell_type": "code",
   "execution_count": 14,
   "id": "699cbaf0",
   "metadata": {},
   "outputs": [
    {
     "name": "stdout",
     "output_type": "stream",
     "text": [
      "string\n",
      "number\n"
     ]
    }
   ],
   "source": [
    "console.log(typeof \"hello\")\n",
    "console.log(typeof 25)"
   ]
  },
  {
   "cell_type": "markdown",
   "id": "fd7ea30f",
   "metadata": {},
   "source": [
    "You might have noticed that in order to represent a string in java script we usd double quotes. But this is not the only way we can do it. We can represent srings in three different ways : \n",
    "- Single quotes.\n",
    "- Double quotes .\n",
    "- Template literals (backtick quote)\n",
    "\n",
    "here is some examples ."
   ]
  },
  {
   "cell_type": "code",
   "execution_count": 23,
   "id": "e6872aaa",
   "metadata": {},
   "outputs": [
    {
     "name": "stdout",
     "output_type": "stream",
     "text": [
      "hello darling, where is kitty?\n",
      "hello darling, where is kitty ?\n",
      "hello darling where is kitty\n"
     ]
    }
   ],
   "source": [
    "console.log('hello darling, where is kitty?')\n",
    "console.log(\"hello darling, where is kitty ?\")\n",
    "console.log(`hello darling where is ${'kitty'}`)//what goes inside ${} is executed and converted to string."
   ]
  },
  {
   "cell_type": "markdown",
   "id": "964325d4",
   "metadata": {},
   "source": [
    "### Type Conversion (type coercion)\n",
    "Things seem very straightforward up till now. Ther's only one thing that could make you confused in this chapter. That is **Type Coercion** rules in JS.\n",
    "Those are the roles that the JS Engine uses when applying different operators. for example : "
   ]
  },
  {
   "cell_type": "code",
   "execution_count": 30,
   "id": "8737ed65",
   "metadata": {},
   "outputs": [
    {
     "name": "stdout",
     "output_type": "stream",
     "text": [
      "4\n",
      "0\n",
      "NaN\n",
      "true\n"
     ]
    }
   ],
   "source": [
    "console.log(\"5\" - 1 )\n",
    "console.log(null * 2)\n",
    "console.log(undefined + 2)\n",
    "console.log(5 == \"5\")"
   ]
  },
  {
   "cell_type": "markdown",
   "id": "19afbbce",
   "metadata": {},
   "source": [
    "This weird behavior is a little bit confusing. Actually it's very confusing at the beginning. Why things happen like that is a question of philosophical basis and we should concern ourselves here with the **how** question instead.\n",
    "I prefer to link to this great article where this type coercion idea is explained in a very good way."
   ]
  }
 ],
 "metadata": {
  "kernelspec": {
   "display_name": "JavaScript (Node.js)",
   "language": "javascript",
   "name": "javascript"
  },
  "language_info": {
   "file_extension": ".js",
   "mimetype": "application/javascript",
   "name": "javascript",
   "version": "14.18.0"
  }
 },
 "nbformat": 4,
 "nbformat_minor": 5
}
