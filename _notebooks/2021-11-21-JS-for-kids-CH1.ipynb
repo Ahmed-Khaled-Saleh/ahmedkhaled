{
 "cells": [
  {
   "cell_type": "markdown",
   "id": "eb84b866",
   "metadata": {},
   "source": [
    "CH 1 : Meet JS\n",
    "--------------\n",
    "- Purpose of the cahpter : \n",
    "    Gives a quick intro to JS and gets you started writing JS in Google chrome ."
   ]
  },
  {
   "cell_type": "markdown",
   "id": "755af85b",
   "metadata": {},
   "source": [
    "After this chapter student should  :\n",
    "  ---------------------------------\n",
    "    have learned a bit about what JS is and its usage.\n",
    "    know how to run JS in a browser."
   ]
  },
  {
   "cell_type": "markdown",
   "id": "5bf07936",
   "metadata": {},
   "source": [
    "Intro (Computers what they are about)\n",
    "-----------------------------\n",
    "Computers are actually pretty dumb, deep down. They can do amazing things but they don't actially do it.\n",
    "Computers obey the orders of the electrcial signals of 0s and 1s.\n",
    "Computers can only do exactly what we humans tell them to do.\n",
    "But we don't tell the Computer what to do by using a pattern of 0s and 1s but with a set of languages called PLs.\n",
    "PLs are like english, they have Grammer and Vocabulary . One such language is JS .\n"
   ]
  },
  {
   "cell_type": "markdown",
   "id": "0fcd1a7b",
   "metadata": {},
   "source": [
    "Meet JS\n",
    "-------\n",
    "JS is used to write programs that run on Web browsers. \n",
    "JS can control how a web page looks, or behave (like what action to do when a user press certain key or move the mouse).\n",
    "**ex : scrolling down in Twitter brings more tweets to life ."
   ]
  },
  {
   "cell_type": "markdown",
   "id": "2d3e513f",
   "metadata": {},
   "source": [
    "Resons to learn JS\n",
    "------------\n",
    "1- it's easier and morefun to learn than many other PLs.\n",
    "2- the prerequists tools are very minmal (only a web browser).\n",
    "    (every web browser comes with JS interpreter).\n",
    "3- Portability of JS programs (JS runs on any device, as long as you have a browser installed).\n"
   ]
  },
  {
   "cell_type": "markdown",
   "id": "35fc2b63",
   "metadata": {},
   "source": [
    "Installation\n",
    "------------\n",
    "Done .\n",
    "\n",
    "Writing some JS (or JS as a calculator)\n",
    "---------------------------------------\n",
    "To launch the JS conole in a web browser, type \"ctrl+shift+j\"\n",
    "type 3 + 4 and hit Enter, 7 will appear at the next line.\n",
    "in fact you can treat JS as a calculator that does math operations pretty well .\n"
   ]
  },
  {
   "cell_type": "code",
   "execution_count": 4,
   "id": "9fadd49c",
   "metadata": {},
   "outputs": [
    {
     "data": {
      "text/plain": [
       "7"
      ]
     },
     "execution_count": 4,
     "metadata": {},
     "output_type": "execute_result"
    }
   ],
   "source": [
    "3+4"
   ]
  },
  {
   "cell_type": "markdown",
   "id": "3c5eb49c",
   "metadata": {},
   "source": [
    "Syntax :\n",
    "------\n",
    "Is the language rules for combining symbols and words to create working programs .\n",
    "(eg, in English, we know that the structure of the sentence is subject + verb + Object).\n",
    "like english, JS has its own syntax and rules of combination. It's easeier to know theam gradually rather than mentioning them here.\n"
   ]
  },
  {
   "cell_type": "markdown",
   "id": "3b2829c4",
   "metadata": {},
   "source": [
    "Comments :\n",
    "--------\n",
    "Comments are ignored by JS interpreter, they are there for documenting purposes.\n",
    "Comments have two puropses : \n",
    "    1- For other programmers to understand what the code does .\n",
    "    2- For yourself when you return to work on your program after a while.\n",
    "There are two types of comments : \n",
    "    1- Single line  //this is a comment\n",
    "    2- Multiline    /* this is\n",
    "                    a comment*/"
   ]
  },
  {
   "cell_type": "markdown",
   "id": "a91b1db0",
   "metadata": {},
   "source": [
    "That is it for the first chapter and no more ."
   ]
  },
  {
   "cell_type": "code",
   "execution_count": null,
   "id": "f22fa888",
   "metadata": {},
   "outputs": [],
   "source": []
  }
 ],
 "metadata": {
  "kernelspec": {
   "display_name": "JavaScript (Node.js)",
   "language": "javascript",
   "name": "javascript"
  },
  "language_info": {
   "file_extension": ".js",
   "mimetype": "application/javascript",
   "name": "javascript",
   "version": "14.18.0"
  }
 },
 "nbformat": 4,
 "nbformat_minor": 5
}
